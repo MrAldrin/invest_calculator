{
 "cells": [
  {
   "cell_type": "code",
   "execution_count": 1,
   "id": "5c49f76b",
   "metadata": {},
   "outputs": [],
   "source": [
    "import polars as pl"
   ]
  },
  {
   "cell_type": "code",
   "execution_count": null,
   "id": "2bb9d65c",
   "metadata": {},
   "outputs": [],
   "source": [
    "def stock_investment_monthly(\n",
    "    initial_investment: float,\n",
    "    monthly_contribution: float,\n",
    "    annual_return: float,\n",
    "    years: int,\n",
    "    annual_inflation: float = 0.0,\n",
    ") -> pl.DataFrame:\n",
    "    n_months = years * 12\n",
    "    r_monthly = annual_return / 12.0\n",
    "    i_monthly = annual_inflation / 12.0\n",
    "\n",
    "    balance = [initial_investment]\n",
    "    contributions_cum = [initial_investment]\n",
    "    returns_cum = [0.0]\n",
    "\n",
    "    for m in range(1, n_months + 1):\n",
    "        # previous balance grows\n",
    "        interest = balance[-1] * r_monthly\n",
    "        new_balance = balance[-1] + interest\n",
    "        # add monthly contribution\n",
    "        new_balance += monthly_contribution\n",
    "\n",
    "        # update cumulative trackers\n",
    "        balance.append(new_balance)\n",
    "        contributions_cum.append(contributions_cum[-1] + monthly_contribution)\n",
    "        returns_cum.append(returns_cum[-1] + interest)\n",
    "\n",
    "    df = pl.DataFrame(\n",
    "        {\n",
    "            \"month\": [int(m) for m in range(n_months + 1)],\n",
    "            \"year\": [int(m // 12) for m in range(n_months + 1)],\n",
    "            \"balance\": [float(b) for b in balance],\n",
    "            \"contributions_cum\": [float(c) for c in contributions_cum],\n",
    "            \"returns_cum\": [float(r) for r in returns_cum],\n",
    "        }\n",
    "    )\n",
    "\n",
    "    df = df.with_columns(\n",
    "        [\n",
    "            (pl.col(\"balance\") / ((1 + i_monthly) ** pl.col(\"month\"))).alias(\n",
    "                \"balance_real\"\n",
    "            ),\n",
    "            (pl.col(\"contributions_cum\") / ((1 + i_monthly) ** pl.col(\"month\"))).alias(\n",
    "                \"contributions_real\"\n",
    "            ),\n",
    "        ]\n",
    "    )\n",
    "    return df"
   ]
  },
  {
   "cell_type": "code",
   "execution_count": 11,
   "id": "b717c8a6",
   "metadata": {},
   "outputs": [
    {
     "data": {
      "text/html": [
       "<div><style>\n",
       ".dataframe > thead > tr,\n",
       ".dataframe > tbody > tr {\n",
       "  text-align: right;\n",
       "  white-space: pre-wrap;\n",
       "}\n",
       "</style>\n",
       "<small>shape: (121, 7)</small><table border=\"1\" class=\"dataframe\"><thead><tr><th>month</th><th>year</th><th>balance</th><th>contributions_cum</th><th>returns_cum</th><th>balance_real</th><th>contributions_real</th></tr><tr><td>i64</td><td>i64</td><td>f64</td><td>f64</td><td>f64</td><td>f64</td><td>f64</td></tr></thead><tbody><tr><td>0</td><td>0</td><td>15000.0</td><td>15000.0</td><td>0.0</td><td>15000.0</td><td>15000.0</td></tr><tr><td>1</td><td>0</td><td>30087.5</td><td>30000.0</td><td>87.5</td><td>30037.437604</td><td>29950.083195</td></tr><tr><td>2</td><td>0</td><td>45263.010417</td><td>45000.0</td><td>263.010417</td><td>45112.510071</td><td>44850.374168</td></tr><tr><td>3</td><td>0</td><td>60527.044644</td><td>60000.0</td><td>527.044644</td><td>60225.41541</td><td>59700.997229</td></tr><tr><td>4</td><td>0</td><td>75880.119071</td><td>75000.0</td><td>880.119071</td><td>75376.352386</td><td>74502.076409</td></tr><tr><td>&hellip;</td><td>&hellip;</td><td>&hellip;</td><td>&hellip;</td><td>&hellip;</td><td>&hellip;</td><td>&hellip;</td></tr><tr><td>116</td><td>9</td><td>2.5069e6</td><td>1.755e6</td><td>751882.253155</td><td>2.0665e6</td><td>1.4467e6</td></tr><tr><td>117</td><td>9</td><td>2.5365e6</td><td>1.77e6</td><td>766505.732965</td><td>2.0875e6</td><td>1.4567e6</td></tr><tr><td>118</td><td>9</td><td>2.5663e6</td><td>1.785e6</td><td>781302.016407</td><td>2.1085e6</td><td>1.4666e6</td></tr><tr><td>119</td><td>9</td><td>2.5963e6</td><td>1.8e6</td><td>796272.111503</td><td>2.1295e6</td><td>1.4764e6</td></tr><tr><td>120</td><td>10</td><td>2.6264e6</td><td>1.815e6</td><td>811417.032153</td><td>2.1507e6</td><td>1.4862e6</td></tr></tbody></table></div>"
      ],
      "text/plain": [
       "shape: (121, 7)\n",
       "┌───────┬──────┬──────────────┬──────────────────┬───────────────┬──────────────┬──────────────────┐\n",
       "│ month ┆ year ┆ balance      ┆ contributions_cu ┆ returns_cum   ┆ balance_real ┆ contributions_re │\n",
       "│ ---   ┆ ---  ┆ ---          ┆ m                ┆ ---           ┆ ---          ┆ al               │\n",
       "│ i64   ┆ i64  ┆ f64          ┆ ---              ┆ f64           ┆ f64          ┆ ---              │\n",
       "│       ┆      ┆              ┆ f64              ┆               ┆              ┆ f64              │\n",
       "╞═══════╪══════╪══════════════╪══════════════════╪═══════════════╪══════════════╪══════════════════╡\n",
       "│ 0     ┆ 0    ┆ 15000.0      ┆ 15000.0          ┆ 0.0           ┆ 15000.0      ┆ 15000.0          │\n",
       "│ 1     ┆ 0    ┆ 30087.5      ┆ 30000.0          ┆ 87.5          ┆ 30037.437604 ┆ 29950.083195     │\n",
       "│ 2     ┆ 0    ┆ 45263.010417 ┆ 45000.0          ┆ 263.010417    ┆ 45112.510071 ┆ 44850.374168     │\n",
       "│ 3     ┆ 0    ┆ 60527.044644 ┆ 60000.0          ┆ 527.044644    ┆ 60225.41541  ┆ 59700.997229     │\n",
       "│ 4     ┆ 0    ┆ 75880.119071 ┆ 75000.0          ┆ 880.119071    ┆ 75376.352386 ┆ 74502.076409     │\n",
       "│ …     ┆ …    ┆ …            ┆ …                ┆ …             ┆ …            ┆ …                │\n",
       "│ 116   ┆ 9    ┆ 2.5069e6     ┆ 1.755e6          ┆ 751882.253155 ┆ 2.0665e6     ┆ 1.4467e6         │\n",
       "│ 117   ┆ 9    ┆ 2.5365e6     ┆ 1.77e6           ┆ 766505.732965 ┆ 2.0875e6     ┆ 1.4567e6         │\n",
       "│ 118   ┆ 9    ┆ 2.5663e6     ┆ 1.785e6          ┆ 781302.016407 ┆ 2.1085e6     ┆ 1.4666e6         │\n",
       "│ 119   ┆ 9    ┆ 2.5963e6     ┆ 1.8e6            ┆ 796272.111503 ┆ 2.1295e6     ┆ 1.4764e6         │\n",
       "│ 120   ┆ 10   ┆ 2.6264e6     ┆ 1.815e6          ┆ 811417.032153 ┆ 2.1507e6     ┆ 1.4862e6         │\n",
       "└───────┴──────┴──────────────┴──────────────────┴───────────────┴──────────────┴──────────────────┘"
      ]
     },
     "execution_count": 11,
     "metadata": {},
     "output_type": "execute_result"
    }
   ],
   "source": [
    "stock_investment_monthly(\n",
    "    initial_investment=15000,\n",
    "    monthly_contribution=15000,\n",
    "    annual_return=0.07,\n",
    "    years=10,\n",
    "    annual_inflation=0.02,\n",
    ")"
   ]
  },
  {
   "cell_type": "code",
   "execution_count": null,
   "id": "57be4f91",
   "metadata": {},
   "outputs": [],
   "source": []
  },
  {
   "cell_type": "code",
   "execution_count": null,
   "id": "dd8d8151",
   "metadata": {},
   "outputs": [],
   "source": []
  }
 ],
 "metadata": {
  "kernelspec": {
   "display_name": "invest-calculator (3.13.5)",
   "language": "python",
   "name": "python3"
  },
  "language_info": {
   "codemirror_mode": {
    "name": "ipython",
    "version": 3
   },
   "file_extension": ".py",
   "mimetype": "text/x-python",
   "name": "python",
   "nbconvert_exporter": "python",
   "pygments_lexer": "ipython3",
   "version": "3.13.5"
  }
 },
 "nbformat": 4,
 "nbformat_minor": 5
}
